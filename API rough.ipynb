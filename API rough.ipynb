{
 "cells": [
  {
   "cell_type": "code",
   "execution_count": 81,
   "id": "6ec79e03",
   "metadata": {
    "scrolled": true
   },
   "outputs": [
    {
     "name": "stdout",
     "output_type": "stream",
     "text": [
      "[{\"tournament\":{\"name\":\"Czech Extraliga\",\"shortName\":\"CZE\",\"id\":6},\"stage\":{\"name\":\"Regular Season\",\"shortName\":\"RS\",\"id\":2275},\"round\":{\"name\":\"Round 52\",\"shortName\":\"R52\",\"id\":52},\"standings\":{\"overall\":[{\"streakLose\":4,\"overtimeLost\":5,\"row\":33,\"shootoutWon\":4,\"shootoutLost\":2,\"team\":{\"name\":\"HC Pardubice\",\"shortName\":\"PRDB\",\"mediumName\":\"Pardubice\",\"id\":81},\"positionStatus\":{\"name\":\"Play Off - Quarter Final\",\"id\":7},\"scored\":159,\"against\":110,\"wpg\":0.712,\"difference\":49,\"position\":1,\"delta\":0,\"played\":52,\"won\":37,\"lost\":10,\"points\":108.00},{\"streakLose\":1,\"overtimeLost\":10,\"row\":28,\"shootoutWon\":4,\"shootoutLost\":6,\"team\":{\"name\":\"HC Vitkovice\",\"shortName\":\"VTKV\",\"mediumName\":\"Vitkovice\",\"id\":82},\"positionStatus\":{\"name\":\"Play Off - Quarter Final\",\"id\":7},\"scored\":159,\"against\":122,\"wpg\":0.615,\"difference\":37,\"position\":2,\"delta\":0,\"played\":52,\"won\":32,\"lost\":10,\"points\":102.00},{\"streakLose\":1,\"overtimeLost\":3,\"row\":33,\"shootoutWon\":1,\"shootoutLost\":2,\"team\":{\"name\":\"HC Sparta Praha\",\"shortName\":\"SPRP\",\"mediumName\":\"Sparta Prag\",\"id\":83},\"positionStatus\":{\"name\":\"Play Off - Quarter Final\",\"id\":7},\"scored\":155,\"against\":122,\"wpg\":0.654,\"difference\":33,\"position\":3,\"delta\":0,\"played\":52,\"won\":34,\"lost\":15,\"points\":99.00},{\"streakWin\":1,\"overtimeLost\":5,\"row\":29,\"shootoutWon\":1,\"shootoutLost\":1,\"team\":{\"name\":\"Mountfield\",\"shortName\":\"MOU\",\"mediumName\":\"Mountfield\",\"id\":260},\"positionStatus\":{\"name\":\"Play Off - Quarter Final\",\"id\":7},\"scored\":141,\"against\":124,\"wpg\":0.577,\"difference\":17,\"position\":4,\"delta\":-1,\"played\":52,\"won\":30,\"lost\":17,\"points\":88.00},{\"streakWin\":9,\"overtimeLost\":10,\"row\":26,\"shootoutWon\":3,\"shootoutLost\":4,\"team\":{\"name\":\"HC Liberec\",\"shortName\":\"LBRC\",\"mediumName\":\"HC Liberec\",\"id\":86},\"positionStatus\":{\"name\":\"Qualifying Play-Off tour\",\"id\":8},\"scored\":156,\"against\":129,\"wpg\":0.558,\"difference\":27,\"position\":5,\"delta\":1,\"played\":52,\"won\":29,\"lost\":13,\"points\":87.00},{\"streakLose\":1,\"overtimeLost\":7,\"row\":26,\"shootoutWon\":0,\"shootoutLost\":3,\"team\":{\"name\":\"HC Ocelari Trinec\",\"shortName\":\"TRI\",\"mediumName\":\"Trinec\",\"id\":84},\"positionStatus\":{\"name\":\"Qualifying Play-Off tour\",\"id\":8},\"scored\":149,\"against\":121,\"wpg\":0.500,\"difference\":28,\"position\":6,\"delta\":0,\"played\":52,\"won\":26,\"lost\":19,\"points\":80.00},{\"streakWin\":1,\"overtimeLost\":3,\"row\":22,\"shootoutWon\":3,\"shootoutLost\":2,\"team\":{\"name\":\"HC Kometa Brno\",\"shortName\":\"KOM\",\"mediumName\":\"HC Brno\",\"id\":90},\"positionStatus\":{\"name\":\"Qualifying Play-Off tour\",\"id\":8},\"scored\":134,\"against\":150,\"wpg\":0.481,\"difference\":-16,\"position\":7,\"delta\":-1,\"played\":52,\"won\":25,\"lost\":24,\"points\":72.00},{\"streakLose\":2,\"overtimeLost\":2,\"row\":22,\"shootoutWon\":3,\"shootoutLost\":1,\"team\":{\"name\":\"HC Olomouc\",\"shortName\":\"OLO\",\"mediumName\":\"Olomouc\",\"id\":252},\"positionStatus\":{\"name\":\"Qualifying Play-Off tour\",\"id\":8},\"scored\":121,\"against\":141,\"wpg\":0.481,\"difference\":-20,\"position\":8,\"delta\":1,\"played\":52,\"won\":25,\"lost\":25,\"points\":71.00},{\"streakLose\":2,\"overtimeLost\":3,\"row\":21,\"shootoutWon\":2,\"shootoutLost\":1,\"team\":{\"name\":\"HC Energie Karlovy Vary\",\"shortName\":\"KRLV\",\"mediumName\":\"HC Karlovy\",\"id\":89},\"positionStatus\":{\"name\":\"Qualifying Play-Off tour\",\"id\":8},\"scored\":129,\"against\":163,\"wpg\":0.442,\"difference\":-34,\"position\":9,\"delta\":0,\"played\":52,\"won\":23,\"lost\":26,\"points\":68.00},{\"streakWin\":3,\"overtimeLost\":8,\"row\":19,\"shootoutWon\":3,\"shootoutLost\":3,\"team\":{\"name\":\"BK Mlada Boleslav\",\"shortName\":\"MBL\",\"mediumName\":\"Mlada Boleslav\",\"id\":91},\"positionStatus\":{\"name\":\"Qualifying Play-Off tour\",\"id\":8},\"scored\":116,\"against\":128,\"wpg\":0.423,\"difference\":-12,\"position\":10,\"delta\":-2,\"played\":52,\"won\":22,\"lost\":22,\"points\":67.00},{\"streakWin\":6,\"overtimeLost\":8,\"row\":17,\"shootoutWon\":5,\"shootoutLost\":2,\"team\":{\"name\":\"HC Litvinov\",\"shortName\":\"LTVN\",\"mediumName\":\"HC Litvinov\",\"id\":88},\"positionStatus\":{\"name\":\"Qualifying Play-Off tour\",\"id\":8},\"scored\":137,\"against\":144,\"wpg\":0.423,\"difference\":-7,\"position\":11,\"delta\":0,\"played\":52,\"won\":22,\"lost\":22,\"points\":67.00},{\"streakLose\":9,\"overtimeLost\":8,\"row\":20,\"shootoutWon\":1,\"shootoutLost\":3,\"team\":{\"name\":\"HC Plzen\",\"shortName\":\"PLZN\",\"mediumName\":\"Plzen\",\"id\":79},\"positionStatus\":{\"name\":\"Qualifying Play-Off tour\",\"id\":8},\"scored\":127,\"against\":146,\"wpg\":0.404,\"difference\":-19,\"position\":12,\"delta\":2,\"played\":52,\"won\":21,\"lost\":23,\"points\":65.00},{\"streakWin\":2,\"overtimeLost\":6,\"row\":17,\"shootoutWon\":3,\"shootoutLost\":2,\"team\":{\"name\":\"HC Ceske Budejovice\",\"shortName\":\"BDJV\",\"mediumName\":\"HC Ceske Budejovice\",\"id\":87},\"scored\":132,\"against\":158,\"wpg\":0.385,\"difference\":-26,\"position\":13,\"delta\":0,\"played\":52,\"won\":20,\"lost\":26,\"points\":61.00},{\"streakWin\":1,\"overtimeLost\":6,\"row\":18,\"shootoutWon\":0,\"shootoutLost\":1,\"team\":{\"name\":\"HC Kladno\",\"shortName\":\"KLDN\",\"mediumName\":\"Kladno\",\"id\":92},\"positionStatus\":{\"name\":\"Playout\",\"id\":5},\"scored\":122,\"against\":179,\"wpg\":0.346,\"difference\":-57,\"position\":14,\"delta\":0,\"played\":52,\"won\":18,\"lost\":28,\"points\":57.00}],\"home\":[{\"streakWin\":1,\"overtimeLost\":2,\"row\":20,\"shootoutWon\":0,\"shootoutLost\":1,\"team\":{\"name\":\"HC Sparta Praha\",\"shortName\":\"SPRP\",\"mediumName\":\"Sparta Prag\",\"id\":83},\"scored\":87,\"against\":53,\"wpg\":0.769,\"difference\":34,\"position\":1,\"delta\":0,\"played\":26,\"won\":20,\"lost\":4,\"points\":60.00},{\"streakWin\":2,\"overtimeLost\":3,\"row\":16,\"shootoutWon\":1,\"shootoutLost\":2,\"team\":{\"name\":\"HC Vitkovice\",\"shortName\":\"VTKV\",\"mediumName\":\"Vitkovice\",\"id\":82},\"scored\":84,\"against\":57,\"wpg\":0.654,\"difference\":27,\"position\":2,\"delta\":0,\"played\":26,\"won\":17,\"lost\":6,\"points\":53.00},{\"streakLose\":3,\"overtimeLost\":3,\"row\":15,\"shootoutWon\":2,\"shootoutLost\":2,\"team\":{\"name\":\"HC Pardubice\",\"shortName\":\"PRDB\",\"mediumName\":\"Pardubice\",\"id\":81},\"scored\":79,\"against\":56,\"wpg\":0.654,\"difference\":23,\"position\":3,\"delta\":0,\"played\":26,\"won\":17,\"lost\":6,\"points\":50.00},{\"streakWin\":1,\"overtimeLost\":4,\"row\":16,\"shootoutWon\":1,\"shootoutLost\":1,\"team\":{\"name\":\"Mountfield\",\"shortName\":\"MOU\",\"mediumName\":\"Mountfield\",\"id\":260},\"scored\":75,\"against\":59,\"wpg\":0.654,\"difference\":16,\"position\":4,\"delta\":-1,\"played\":26,\"won\":17,\"lost\":5,\"points\":50.00},{\"streakWin\":8,\"overtimeLost\":6,\"row\":14,\"shootoutWon\":2,\"shootoutLost\":3,\"team\":{\"name\":\"HC Liberec\",\"shortName\":\"LBRC\",\"mediumName\":\"HC Liberec\",\"id\":86},\"scored\":86,\"against\":59,\"wpg\":0.615,\"difference\":27,\"position\":5,\"delta\":1,\"played\":26,\"won\":16,\"lost\":4,\"points\":49.00},{\"streakWin\":4,\"overtimeLost\":6,\"row\":12,\"shootoutWon\":3,\"shootoutLost\":2,\"team\":{\"name\":\"HC Litvinov\",\"shortName\":\"LTVN\",\"mediumName\":\"HC Litvinov\",\"id\":88},\"scored\":77,\"against\":59,\"wpg\":0.577,\"difference\":18,\"position\":6,\"delta\":-1,\"played\":26,\"won\":15,\"lost\":5,\"points\":47.00},{\"streakWin\":2,\"overtimeLost\":1,\"row\":15,\"shootoutWon\":1,\"shootoutLost\":0,\"team\":{\"name\":\"HC Kometa Brno\",\"shortName\":\"KOM\",\"mediumName\":\"HC Brno\",\"id\":90},\"scored\":72,\"against\":58,\"wpg\":0.615,\"difference\":14,\"position\":7,\"delta\":-1,\"played\":26,\"won\":16,\"lost\":9,\"points\":46.00},{\"streakLose\":2,\"overtimeLost\":3,\"row\":14,\"shootoutWon\":0,\"shootoutLost\":2,\"team\":{\"name\":\"HC Ocelari Trinec\",\"shortName\":\"TRI\",\"mediumName\":\"Trinec\",\"id\":84},\"scored\":83,\"against\":58,\"wpg\":0.538,\"difference\":25,\"position\":8,\"delta\":2,\"played\":26,\"won\":14,\"lost\":9,\"points\":44.00},{\"streakLose\":3,\"overtimeLost\":0,\"row\":14,\"shootoutWon\":1,\"shootoutLost\":0,\"team\":{\"name\":\"HC Olomouc\",\"shortName\":\"OLO\",\"mediumName\":\"Olomouc\",\"id\":252},\"scored\":67,\"against\":62,\"wpg\":0.577,\"difference\":5,\"position\":9,\"delta\":0,\"played\":26,\"won\":15,\"lost\":11,\"points\":43.00},{\"streakWin\":1,\"overtimeLost\":5,\"row\":11,\"shootoutWon\":2,\"shootoutLost\":1,\"team\":{\"name\":\"HC Ceske Budejovice\",\"shortName\":\"BDJV\",\"mediumName\":\"HC Ceske Budejovice\",\"id\":87},\"scored\":78,\"against\":72,\"wpg\":0.500,\"difference\":6,\"position\":10,\"delta\":0,\"played\":26,\"won\":13,\"lost\":8,\"points\":41.00},{\"streakWin\":1,\"overtimeLost\":2,\"row\":12,\"shootoutWon\":1,\"shootoutLost\":1,\"team\":{\"name\":\"BK Mlada Boleslav\",\"shortName\":\"MBL\",\"mediumName\":\"Mlada Boleslav\",\"id\":91},\"scored\":63,\"against\":54,\"wpg\":0.500,\"difference\":9,\"position\":11,\"delta\":0,\"played\":26,\"won\":13,\"lost\":11,\"points\":38.00},{\"streakLose\":4,\"overtimeLost\":5,\"row\":11,\"shootoutWon\":1,\"shootoutLost\":1,\"team\":{\"name\":\"HC Plzen\",\"shortName\":\"PLZN\",\"mediumName\":\"Plzen\",\"id\":79},\"scored\":69,\"against\":72,\"wpg\":0.462,\"difference\":-3,\"position\":12,\"delta\":0,\"played\":26,\"won\":12,\"lost\":9,\"points\":38.00},{\"streakLose\":1,\"overtimeLost\":3,\"row\":10,\"shootoutWon\":1,\"shootoutLost\":1,\"team\":{\"name\":\"HC Energie Karlovy Vary\",\"shortName\":\"KRLV\",\"mediumName\":\"HC Karlovy\",\"id\":89},\"scored\":68,\"against\":82,\"wpg\":0.423,\"difference\":-14,\"position\":13,\"delta\":0,\"played\":26,\"won\":11,\"lost\":12,\"points\":35.00},{\"streakWin\":1,\"overtimeLost\":3,\"row\":11,\"shootoutWon\":0,\"shootoutLost\":0,\"team\":{\"name\":\"HC Kladno\",\"shortName\":\"KLDN\",\"mediumName\":\"Kladno\",\"id\":92},\"scored\":67,\"against\":81,\"wpg\":0.423,\"difference\":-14,\"position\":14,\"delta\":0,\"played\":26,\"won\":11,\"lost\":12,\"points\":35.00}],\"away\":[{\"streakLose\":2,\"overtimeLost\":2,\"row\":18,\"shootoutWon\":2,\"shootoutLost\":0,\"team\":{\"name\":\"HC Pardubice\",\"shortName\":\"PRDB\",\"mediumName\":\"Pardubice\",\"id\":81},\"scored\":80,\"against\":54,\"wpg\":0.769,\"difference\":26,\"position\":1,\"delta\":0,\"played\":26,\"won\":20,\"lost\":4,\"points\":58.00},{\"streakLose\":1,\"overtimeLost\":7,\"row\":12,\"shootoutWon\":3,\"shootoutLost\":4,\"team\":{\"name\":\"HC Vitkovice\",\"shortName\":\"VTKV\",\"mediumName\":\"Vitkovice\",\"id\":82},\"scored\":75,\"against\":65,\"wpg\":0.577,\"difference\":10,\"position\":2,\"delta\":0,\"played\":26,\"won\":15,\"lost\":4,\"points\":49.00},{\"streakLose\":1,\"overtimeLost\":1,\"row\":13,\"shootoutWon\":1,\"shootoutLost\":1,\"team\":{\"name\":\"HC Sparta Praha\",\"shortName\":\"SPRP\",\"mediumName\":\"Sparta Prag\",\"id\":83},\"scored\":68,\"against\":69,\"wpg\":0.538,\"difference\":-1,\"position\":3,\"delta\":0,\"played\":26,\"won\":14,\"lost\":11,\"points\":39.00},{\"streakLose\":1,\"overtimeLost\":1,\"row\":13,\"shootoutWon\":0,\"shootoutLost\":0,\"team\":{\"name\":\"Mountfield\",\"shortName\":\"MOU\",\"mediumName\":\"Mountfield\",\"id\":260},\"scored\":66,\"against\":65,\"wpg\":0.500,\"difference\":1,\"position\":4,\"delta\":0,\"played\":26,\"won\":13,\"lost\":12,\"points\":38.00},{\"streakWin\":4,\"overtimeLost\":4,\"row\":12,\"shootoutWon\":1,\"shootoutLost\":1,\"team\":{\"name\":\"HC Liberec\",\"shortName\":\"LBRC\",\"mediumName\":\"HC Liberec\",\"id\":86},\"scored\":70,\"against\":70,\"wpg\":0.500,\"difference\":0,\"position\":5,\"delta\":0,\"played\":26,\"won\":13,\"lost\":9,\"points\":38.00},{\"streakWin\":1,\"overtimeLost\":4,\"row\":12,\"shootoutWon\":0,\"shootoutLost\":1,\"team\":{\"name\":\"HC Ocelari Trinec\",\"shortName\":\"TRI\",\"mediumName\":\"Trinec\",\"id\":84},\"scored\":66,\"against\":63,\"wpg\":0.462,\"difference\":3,\"position\":6,\"delta\":0,\"played\":26,\"won\":12,\"lost\":10,\"points\":36.00},{\"streakLose\":2,\"overtimeLost\":0,\"row\":11,\"shootoutWon\":1,\"shootoutLost\":0,\"team\":{\"name\":\"HC Energie Karlovy Vary\",\"shortName\":\"KRLV\",\"mediumName\":\"HC Karlovy\",\"id\":89},\"scored\":61,\"against\":81,\"wpg\":0.462,\"difference\":-20,\"position\":7,\"delta\":0,\"played\":26,\"won\":12,\"lost\":14,\"points\":33.00},{\"streakWin\":3,\"overtimeLost\":6,\"row\":7,\"shootoutWon\":2,\"shootoutLost\":2,\"team\":{\"name\":\"BK Mlada Boleslav\",\"shortName\":\"MBL\",\"mediumName\":\"Mlada Boleslav\",\"id\":91},\"scored\":53,\"against\":74,\"wpg\":0.346,\"difference\":-21,\"position\":8,\"delta\":-2,\"played\":26,\"won\":9,\"lost\":11,\"points\":29.00},{\"streakLose\":1,\"overtimeLost\":2,\"row\":8,\"shootoutWon\":2,\"shootoutLost\":1,\"team\":{\"name\":\"HC Olomouc\",\"shortName\":\"OLO\",\"mediumName\":\"Olomouc\",\"id\":252},\"scored\":54,\"against\":79,\"wpg\":0.385,\"difference\":-25,\"position\":9,\"delta\":1,\"played\":26,\"won\":10,\"lost\":14,\"points\":28.00},{\"streakLose\":7,\"overtimeLost\":3,\"row\":9,\"shootoutWon\":0,\"shootoutLost\":2,\"team\":{\"name\":\"HC Plzen\",\"shortName\":\"PLZN\",\"mediumName\":\"Plzen\",\"id\":79},\"scored\":58,\"against\":74,\"wpg\":0.346,\"difference\":-16,\"position\":10,\"delta\":1,\"played\":26,\"won\":9,\"lost\":14,\"points\":27.00},{\"streakLose\":1,\"overtimeLost\":2,\"row\":7,\"shootoutWon\":2,\"shootoutLost\":2,\"team\":{\"name\":\"HC Kometa Brno\",\"shortName\":\"KOM\",\"mediumName\":\"HC Brno\",\"id\":90},\"scored\":62,\"against\":92,\"wpg\":0.346,\"difference\":-30,\"position\":11,\"delta\":0,\"played\":26,\"won\":9,\"lost\":15,\"points\":26.00},{\"streakLose\":1,\"overtimeLost\":3,\"row\":7,\"shootoutWon\":0,\"shootoutLost\":1,\"team\":{\"name\":\"HC Kladno\",\"shortName\":\"KLDN\",\"mediumName\":\"Kladno\",\"id\":92},\"scored\":55,\"against\":98,\"wpg\":0.269,\"difference\":-43,\"position\":12,\"delta\":0,\"played\":26,\"won\":7,\"lost\":16,\"points\":22.00},{\"streakWin\":2,\"overtimeLost\":2,\"row\":5,\"shootoutWon\":2,\"shootoutLost\":0,\"team\":{\"name\":\"HC Litvinov\",\"shortName\":\"LTVN\",\"mediumName\":\"HC Litvinov\",\"id\":88},\"scored\":60,\"against\":85,\"wpg\":0.269,\"difference\":-25,\"position\":13,\"delta\":0,\"played\":26,\"won\":7,\"lost\":17,\"points\":20.00},{\"streakWin\":1,\"overtimeLost\":1,\"row\":6,\"shootoutWon\":1,\"shootoutLost\":1,\"team\":{\"name\":\"HC Ceske Budejovice\",\"shortName\":\"BDJV\",\"mediumName\":\"HC Ceske Budejovice\",\"id\":87},\"scored\":54,\"against\":86,\"wpg\":0.269,\"difference\":-32,\"position\":14,\"delta\":0,\"played\":26,\"won\":7,\"lost\":18,\"points\":20.00}]},\"name\":\"\",\"showWPG\":true,\"showGB\":false,\"id\":287}]\n"
     ]
    }
   ],
   "source": [
    "import requests\n",
    "\n",
    "url = \"https://ice-hockey-data.p.rapidapi.com/tournament/standings\"\n",
    "\n",
    "querystring = {\"tournamentId\":\"6\"}\n",
    "\n",
    "headers = {\n",
    "\t\"X-RapidAPI-Key\": \"7c97880d88msh385904ea8bbf2efp1265a2jsn984f1daf83a4\",\n",
    "\t\"X-RapidAPI-Host\": \"ice-hockey-data.p.rapidapi.com\"\n",
    "}\n",
    "\n",
    "response = requests.request(\"GET\", url, headers=headers, params=querystring)\n",
    "\n",
    "print(response.text)"
   ]
  },
  {
   "cell_type": "code",
   "execution_count": 82,
   "id": "0679b349",
   "metadata": {},
   "outputs": [],
   "source": [
    "import pandas as pd"
   ]
  },
  {
   "cell_type": "code",
   "execution_count": 105,
   "id": "49dede51",
   "metadata": {},
   "outputs": [
    {
     "ename": "TypeError",
     "evalue": "list indices must be integers or slices, not str",
     "output_type": "error",
     "traceback": [
      "\u001b[1;31m---------------------------------------------------------------------------\u001b[0m",
      "\u001b[1;31mTypeError\u001b[0m                                 Traceback (most recent call last)",
      "Cell \u001b[1;32mIn[105], line 1\u001b[0m\n\u001b[1;32m----> 1\u001b[0m temp_df \u001b[38;5;241m=\u001b[39m pd\u001b[38;5;241m.\u001b[39mDataFrame(\u001b[43mresponse\u001b[49m\u001b[38;5;241;43m.\u001b[39;49m\u001b[43mjson\u001b[49m\u001b[43m(\u001b[49m\u001b[43m)\u001b[49m\u001b[43m[\u001b[49m\u001b[38;5;124;43m'\u001b[39;49m\u001b[38;5;124;43mstage\u001b[39;49m\u001b[38;5;124;43m'\u001b[39;49m\u001b[43m]\u001b[49m)[[\u001b[38;5;124m'\u001b[39m\u001b[38;5;124mid\u001b[39m\u001b[38;5;124m'\u001b[39m,\u001b[38;5;124m'\u001b[39m\u001b[38;5;124mtournament\u001b[39m\u001b[38;5;124m'\u001b[39m,\u001b[38;5;124m'\u001b[39m\u001b[38;5;124mstage\u001b[39m\u001b[38;5;124m'\u001b[39m,\u001b[38;5;124m'\u001b[39m\u001b[38;5;124mround\u001b[39m\u001b[38;5;124m'\u001b[39m,\u001b[38;5;124m'\u001b[39m\u001b[38;5;124mstandings\u001b[39m\u001b[38;5;124m'\u001b[39m,\u001b[38;5;124m'\u001b[39m\u001b[38;5;124mname\u001b[39m\u001b[38;5;124m'\u001b[39m,\u001b[38;5;124m'\u001b[39m\u001b[38;5;124mshowWPG\u001b[39m\u001b[38;5;124m'\u001b[39m,\u001b[38;5;124m'\u001b[39m\u001b[38;5;124mshowGB\u001b[39m\u001b[38;5;124m'\u001b[39m]]\n\u001b[0;32m      2\u001b[0m temp_df\n",
      "\u001b[1;31mTypeError\u001b[0m: list indices must be integers or slices, not str"
     ]
    }
   ],
   "source": [
    "temp_df = pd.DataFrame(response.json()['stage'])[['id','tournament','stage','round','standings','name','showWPG','showGB']]\n",
    "temp_df"
   ]
  },
  {
   "cell_type": "code",
   "execution_count": 104,
   "id": "5b2c5002",
   "metadata": {},
   "outputs": [
    {
     "data": {
      "text/html": [
       "<div>\n",
       "<style scoped>\n",
       "    .dataframe tbody tr th:only-of-type {\n",
       "        vertical-align: middle;\n",
       "    }\n",
       "\n",
       "    .dataframe tbody tr th {\n",
       "        vertical-align: top;\n",
       "    }\n",
       "\n",
       "    .dataframe thead th {\n",
       "        text-align: right;\n",
       "    }\n",
       "</style>\n",
       "<table border=\"1\" class=\"dataframe\">\n",
       "  <thead>\n",
       "    <tr style=\"text-align: right;\">\n",
       "      <th></th>\n",
       "      <th>tournament</th>\n",
       "      <th>stage</th>\n",
       "      <th>round</th>\n",
       "      <th>standings</th>\n",
       "      <th>name</th>\n",
       "      <th>showWPG</th>\n",
       "      <th>showGB</th>\n",
       "      <th>id</th>\n",
       "    </tr>\n",
       "  </thead>\n",
       "  <tbody>\n",
       "    <tr>\n",
       "      <th>0</th>\n",
       "      <td>{'name': 'Czech Extraliga', 'shortName': 'CZE'...</td>\n",
       "      <td>{'name': 'Regular Season', 'shortName': 'RS', ...</td>\n",
       "      <td>{'name': 'Round 52', 'shortName': 'R52', 'id':...</td>\n",
       "      <td>{'overall': [{'streakLose': 4, 'overtimeLost':...</td>\n",
       "      <td></td>\n",
       "      <td>True</td>\n",
       "      <td>False</td>\n",
       "      <td>287</td>\n",
       "    </tr>\n",
       "  </tbody>\n",
       "</table>\n",
       "</div>"
      ],
      "text/plain": [
       "                                          tournament  \\\n",
       "0  {'name': 'Czech Extraliga', 'shortName': 'CZE'...   \n",
       "\n",
       "                                               stage  \\\n",
       "0  {'name': 'Regular Season', 'shortName': 'RS', ...   \n",
       "\n",
       "                                               round  \\\n",
       "0  {'name': 'Round 52', 'shortName': 'R52', 'id':...   \n",
       "\n",
       "                                           standings name  showWPG  showGB  \\\n",
       "0  {'overall': [{'streakLose': 4, 'overtimeLost':...          True   False   \n",
       "\n",
       "    id  \n",
       "0  287  "
      ]
     },
     "execution_count": 104,
     "metadata": {},
     "output_type": "execute_result"
    }
   ],
   "source": [
    "pd.DataFrame(response.json())"
   ]
  },
  {
   "cell_type": "code",
   "execution_count": null,
   "id": "f1a7c059",
   "metadata": {},
   "outputs": [],
   "source": []
  }
 ],
 "metadata": {
  "kernelspec": {
   "display_name": "Python 3 (ipykernel)",
   "language": "python",
   "name": "python3"
  },
  "language_info": {
   "codemirror_mode": {
    "name": "ipython",
    "version": 3
   },
   "file_extension": ".py",
   "mimetype": "text/x-python",
   "name": "python",
   "nbconvert_exporter": "python",
   "pygments_lexer": "ipython3",
   "version": "3.10.10"
  }
 },
 "nbformat": 4,
 "nbformat_minor": 5
}
